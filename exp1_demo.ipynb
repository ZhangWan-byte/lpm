{
 "cells": [
  {
   "cell_type": "code",
   "execution_count": 1,
   "id": "e32c8bd9",
   "metadata": {},
   "outputs": [],
   "source": [
    "import numpy as np"
   ]
  },
  {
   "cell_type": "code",
   "execution_count": 3,
   "id": "684dfa52",
   "metadata": {},
   "outputs": [
    {
     "data": {
      "text/plain": [
       "KeysView(NpzFile './out/A1/A1_SBM_K4_dense_splits_seed42.npz' with keys: train, val, test)"
      ]
     },
     "execution_count": 3,
     "metadata": {},
     "output_type": "execute_result"
    }
   ],
   "source": [
    "data = np.load(\"./out/A1/A1_SBM_K4_dense_splits_seed42.npz\")\n",
    "data.keys()"
   ]
  },
  {
   "cell_type": "code",
   "execution_count": 7,
   "id": "f7c12c17",
   "metadata": {},
   "outputs": [
    {
     "data": {
      "text/plain": [
       "(10438, 2)"
      ]
     },
     "execution_count": 7,
     "metadata": {},
     "output_type": "execute_result"
    }
   ],
   "source": [
    "data[\"test\"].shape"
   ]
  },
  {
   "cell_type": "code",
   "execution_count": 16,
   "id": "02ffb89d",
   "metadata": {},
   "outputs": [
    {
     "data": {
      "text/plain": [
       "(array([[0., 0.],\n",
       "        [1., 0.],\n",
       "        [1., 0.],\n",
       "        ...,\n",
       "        [0., 0.],\n",
       "        [0., 1.],\n",
       "        [1., 0.]]),\n",
       " array([2, 0, 0, ..., 2, 1, 0]))"
      ]
     },
     "execution_count": 16,
     "metadata": {},
     "output_type": "execute_result"
    }
   ],
   "source": [
    "nodes = np.load(\"./out/A1/A1_SBM_K4_dense_nodes.npz\")\n",
    "nodes[\"positions\"], nodes[\"blocks\"]"
   ]
  },
  {
   "cell_type": "code",
   "execution_count": 24,
   "id": "033a82a8",
   "metadata": {},
   "outputs": [
    {
     "data": {
      "text/plain": [
       "array([[0., 0.],\n",
       "       [1., 0.],\n",
       "       [1., 0.],\n",
       "       [1., 0.],\n",
       "       [1., 0.],\n",
       "       [0., 0.],\n",
       "       [0., 0.],\n",
       "       [0., 1.],\n",
       "       [0., 0.],\n",
       "       [0., 0.]])"
      ]
     },
     "execution_count": 24,
     "metadata": {},
     "output_type": "execute_result"
    }
   ],
   "source": [
    "nodes[\"positions\"][:10]"
   ]
  },
  {
   "cell_type": "code",
   "execution_count": 17,
   "id": "5d971f76",
   "metadata": {},
   "outputs": [
    {
     "data": {
      "text/plain": [
       "((5000, 2), (5000,))"
      ]
     },
     "execution_count": 17,
     "metadata": {},
     "output_type": "execute_result"
    }
   ],
   "source": [
    "nodes[\"positions\"].shape, nodes[\"blocks\"].shape"
   ]
  },
  {
   "cell_type": "code",
   "execution_count": 15,
   "id": "b32d4121",
   "metadata": {},
   "outputs": [
    {
     "data": {
      "text/plain": [
       "NpzFile './out/A1/A1_SBM_K4_dense_nodes.npz' with keys: positions, blocks"
      ]
     },
     "execution_count": 15,
     "metadata": {},
     "output_type": "execute_result"
    }
   ],
   "source": [
    "nodes"
   ]
  }
 ],
 "metadata": {
  "kernelspec": {
   "display_name": "rebuttal",
   "language": "python",
   "name": "python3"
  },
  "language_info": {
   "codemirror_mode": {
    "name": "ipython",
    "version": 3
   },
   "file_extension": ".py",
   "mimetype": "text/x-python",
   "name": "python",
   "nbconvert_exporter": "python",
   "pygments_lexer": "ipython3",
   "version": "3.11.0"
  }
 },
 "nbformat": 4,
 "nbformat_minor": 5
}
