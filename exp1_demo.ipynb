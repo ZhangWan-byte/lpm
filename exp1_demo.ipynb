{
 "cells": [
  {
   "cell_type": "code",
   "execution_count": 1,
   "id": "e32c8bd9",
   "metadata": {},
   "outputs": [],
   "source": [
    "import numpy as np"
   ]
  },
  {
   "cell_type": "code",
   "execution_count": 8,
   "id": "684dfa52",
   "metadata": {},
   "outputs": [
    {
     "data": {
      "text/plain": [
       "KeysView(NpzFile './sim_data/B1/B1_TranslationInvariant_RBF_ARD_splits_seed42.npz' with keys: train, val, test)"
      ]
     },
     "execution_count": 8,
     "metadata": {},
     "output_type": "execute_result"
    }
   ],
   "source": [
    "# data = np.load(\"./sim_data/A1/A1_SBM_K4_dense_splits_seed42.npz\")\n",
    "data = np.load(\"./sim_data/B1/B1_TranslationInvariant_RBF_ARD_splits_seed42.npz\")\n",
    "data.keys()"
   ]
  },
  {
   "cell_type": "code",
   "execution_count": 21,
   "id": "36ed7a79",
   "metadata": {},
   "outputs": [
    {
     "data": {
      "text/plain": [
       "((6600, 2), (6600, 2), (52802, 2))"
      ]
     },
     "execution_count": 21,
     "metadata": {},
     "output_type": "execute_result"
    }
   ],
   "source": [
    "data[\"test\"].shape, data[\"val\"].shape, data[\"train\"].shape"
   ]
  },
  {
   "cell_type": "code",
   "execution_count": 17,
   "id": "02ffb89d",
   "metadata": {},
   "outputs": [
    {
     "data": {
      "text/plain": [
       "(10000, 4)"
      ]
     },
     "execution_count": 17,
     "metadata": {},
     "output_type": "execute_result"
    }
   ],
   "source": [
    "# nodes = np.load(\"./sim_data/A1/A1_SBM_K4_dense_nodes.npz\")\n",
    "# nodes[\"positions\"], nodes[\"blocks\"]\n",
    "nodes = np.load(\"./sim_data/B1/B1_TranslationInvariant_RBF_ARD_nodes.npz\")\n",
    "nodes[\"positions\"].shape"
   ]
  },
  {
   "cell_type": "code",
   "execution_count": 19,
   "id": "5d971f76",
   "metadata": {},
   "outputs": [],
   "source": [
    "# nodes[\"positions\"].shape, nodes[\"blocks\"].shape"
   ]
  },
  {
   "cell_type": "code",
   "execution_count": 20,
   "id": "b32d4121",
   "metadata": {},
   "outputs": [
    {
     "data": {
      "text/plain": [
       "NpzFile './sim_data/B1/B1_TranslationInvariant_RBF_ARD_nodes.npz' with keys: positions"
      ]
     },
     "execution_count": 20,
     "metadata": {},
     "output_type": "execute_result"
    }
   ],
   "source": [
    "nodes"
   ]
  }
 ],
 "metadata": {
  "kernelspec": {
   "display_name": "rebuttal",
   "language": "python",
   "name": "python3"
  },
  "language_info": {
   "codemirror_mode": {
    "name": "ipython",
    "version": 3
   },
   "file_extension": ".py",
   "mimetype": "text/x-python",
   "name": "python",
   "nbconvert_exporter": "python",
   "pygments_lexer": "ipython3",
   "version": "3.11.0"
  }
 },
 "nbformat": 4,
 "nbformat_minor": 5
}
